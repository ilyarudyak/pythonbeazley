{
 "cells": [
  {
   "cell_type": "markdown",
   "metadata": {},
   "source": [
    "## Project: Catching the Bus"
   ]
  },
  {
   "cell_type": "code",
   "execution_count": 2,
   "metadata": {
    "collapsed": false
   },
   "outputs": [],
   "source": [
    "import urllib.request"
   ]
  },
  {
   "cell_type": "code",
   "execution_count": 4,
   "metadata": {
    "collapsed": true
   },
   "outputs": [],
   "source": [
    "url = 'http://ctabustracker.com/bustime/map/getStopPredictions.jsp?stop=14787&route=22'"
   ]
  },
  {
   "cell_type": "code",
   "execution_count": 12,
   "metadata": {
    "collapsed": false
   },
   "outputs": [],
   "source": [
    "u = urllib.request.urlopen(url)"
   ]
  },
  {
   "cell_type": "code",
   "execution_count": 13,
   "metadata": {
    "collapsed": false
   },
   "outputs": [],
   "source": [
    "data = u.read()"
   ]
  },
  {
   "cell_type": "code",
   "execution_count": 15,
   "metadata": {
    "collapsed": false
   },
   "outputs": [
    {
     "data": {
      "text/plain": [
       "b'<?xml version=\"1.0\" encoding=\"UTF-8\"?>\\r\\n\\r\\n\\r\\n\\r\\n\\r\\n\\r\\n\\r\\n\\r\\n\\r\\n\\r\\n\\r\\n\\r\\n\\r\\n\\r\\n\\r\\n\\r\\n\\r\\n\\r\\n\\r\\n\\r\\n\\r\\n\\r\\n\\r\\n\\r\\n\\r\\n\\r\\n\\r\\n\\r\\n\\r\\n\\r\\n\\r\\n\\r\\n\\r\\n\\r\\n\\r\\n\\r\\n\\r\\n\\r\\n\\r\\n\\r\\n\\r\\n\\r\\n\\r\\n<stop>\\r\\n\\r\\n\\t<id>14787</id>\\r\\n\\t<nm>Clark &amp; Balmoral</nm>\\r\\n\\r\\n\\r\\n\\t<sri>\\r\\n\\t\\t<rt>22</rt>\\r\\n\\t\\t<rd>22</rd>\\t\\t\\r\\n\\t\\t<d>Southbound</d>\\r\\n\\t\\t<dd>Southbound</dd>   \\r\\n\\t</sri>\\r\\n\\r\\n\\t<sbs>\\r\\n\\r\\n\\r\\n\\t</sbs>\\r\\n\\t\\r\\n\\r\\n\\t<cr>22</cr>\\r\\n\\r\\n\\t<pre>\\r\\n\\r\\n\\t\\t<pt>2 MIN</pt>\\r\\n\\r\\n\\t\\t<fd>Harrison</fd>\\r\\n\\r\\n\\t\\t<v>4388</v>\\r\\n\\r\\n\\t\\t<rn>22</rn>\\r\\n\\t\\t<rd>22</rd>\\t\\t\\r\\n\\r\\n\\t</pre>\\r\\n\\r\\n\\t<pre>\\r\\n\\r\\n\\t\\t<pt>9 MIN</pt>\\r\\n\\r\\n\\t\\t<fd>Harrison</fd>\\r\\n\\r\\n\\t\\t<v>4347</v>\\r\\n\\r\\n\\t\\t<rn>22</rn>\\r\\n\\t\\t<rd>22</rd>\\t\\t\\r\\n\\r\\n\\t</pre>\\r\\n\\r\\n\\t<pre>\\r\\n\\r\\n\\t\\t<pt>17 MIN</pt>\\r\\n\\r\\n\\t\\t<fd>Harrison</fd>\\r\\n\\r\\n\\t\\t<v>4384</v>\\r\\n\\r\\n\\t\\t<rn>22</rn>\\r\\n\\t\\t<rd>22</rd>\\t\\t\\r\\n\\r\\n\\t</pre>\\r\\n\\r\\n\\t<pre>\\r\\n\\r\\n\\t\\t<pt>23 MIN</pt>\\r\\n\\r\\n\\t\\t<fd>Harrison</fd>\\r\\n\\r\\n\\t\\t<v>4342</v>\\r\\n\\r\\n\\t\\t<rn>22</rn>\\r\\n\\t\\t<rd>22</rd>\\t\\t\\r\\n\\r\\n\\t</pre>\\r\\n\\r\\n\\r\\n</stop>\\r\\n'"
      ]
     },
     "execution_count": 15,
     "metadata": {},
     "output_type": "execute_result"
    }
   ],
   "source": [
    "data"
   ]
  },
  {
   "cell_type": "code",
   "execution_count": 16,
   "metadata": {
    "collapsed": true
   },
   "outputs": [],
   "source": [
    "from xml.etree.ElementTree import XML"
   ]
  },
  {
   "cell_type": "code",
   "execution_count": 17,
   "metadata": {
    "collapsed": true
   },
   "outputs": [],
   "source": [
    "doc = XML(data)"
   ]
  },
  {
   "cell_type": "code",
   "execution_count": 18,
   "metadata": {
    "collapsed": false
   },
   "outputs": [
    {
     "name": "stdout",
     "output_type": "stream",
     "text": [
      "2 MIN\n",
      "9 MIN\n",
      "17 MIN\n",
      "23 MIN\n"
     ]
    }
   ],
   "source": [
    "for pt in doc.findall('.//pt'):\n",
    "    print(pt.text)"
   ]
  },
  {
   "cell_type": "markdown",
   "metadata": {},
   "source": [
    "##  Project: Reading Command Line Arguments and Making a Script "
   ]
  },
  {
   "cell_type": "code",
   "execution_count": null,
   "metadata": {
    "collapsed": true
   },
   "outputs": [],
   "source": []
  },
  {
   "cell_type": "code",
   "execution_count": null,
   "metadata": {
    "collapsed": true
   },
   "outputs": [],
   "source": []
  },
  {
   "cell_type": "code",
   "execution_count": null,
   "metadata": {
    "collapsed": true
   },
   "outputs": [],
   "source": []
  },
  {
   "cell_type": "code",
   "execution_count": null,
   "metadata": {
    "collapsed": true
   },
   "outputs": [],
   "source": []
  },
  {
   "cell_type": "code",
   "execution_count": null,
   "metadata": {
    "collapsed": true
   },
   "outputs": [],
   "source": []
  },
  {
   "cell_type": "code",
   "execution_count": null,
   "metadata": {
    "collapsed": true
   },
   "outputs": [],
   "source": []
  },
  {
   "cell_type": "code",
   "execution_count": null,
   "metadata": {
    "collapsed": true
   },
   "outputs": [],
   "source": []
  },
  {
   "cell_type": "code",
   "execution_count": null,
   "metadata": {
    "collapsed": true
   },
   "outputs": [],
   "source": []
  },
  {
   "cell_type": "code",
   "execution_count": null,
   "metadata": {
    "collapsed": true
   },
   "outputs": [],
   "source": []
  },
  {
   "cell_type": "code",
   "execution_count": null,
   "metadata": {
    "collapsed": true
   },
   "outputs": [],
   "source": []
  },
  {
   "cell_type": "code",
   "execution_count": null,
   "metadata": {
    "collapsed": true
   },
   "outputs": [],
   "source": []
  },
  {
   "cell_type": "code",
   "execution_count": null,
   "metadata": {
    "collapsed": true
   },
   "outputs": [],
   "source": []
  },
  {
   "cell_type": "code",
   "execution_count": null,
   "metadata": {
    "collapsed": true
   },
   "outputs": [],
   "source": []
  },
  {
   "cell_type": "code",
   "execution_count": null,
   "metadata": {
    "collapsed": true
   },
   "outputs": [],
   "source": []
  },
  {
   "cell_type": "code",
   "execution_count": null,
   "metadata": {
    "collapsed": true
   },
   "outputs": [],
   "source": []
  },
  {
   "cell_type": "code",
   "execution_count": null,
   "metadata": {
    "collapsed": true
   },
   "outputs": [],
   "source": []
  },
  {
   "cell_type": "code",
   "execution_count": null,
   "metadata": {
    "collapsed": true
   },
   "outputs": [],
   "source": []
  },
  {
   "cell_type": "code",
   "execution_count": null,
   "metadata": {
    "collapsed": true
   },
   "outputs": [],
   "source": []
  },
  {
   "cell_type": "code",
   "execution_count": null,
   "metadata": {
    "collapsed": true
   },
   "outputs": [],
   "source": []
  }
 ],
 "metadata": {
  "anaconda-cloud": {},
  "kernelspec": {
   "display_name": "Python [Root]",
   "language": "python",
   "name": "Python [Root]"
  },
  "language_info": {
   "codemirror_mode": {
    "name": "ipython",
    "version": 3
   },
   "file_extension": ".py",
   "mimetype": "text/x-python",
   "name": "python",
   "nbconvert_exporter": "python",
   "pygments_lexer": "ipython3",
   "version": "3.5.2"
  }
 },
 "nbformat": 4,
 "nbformat_minor": 0
}
